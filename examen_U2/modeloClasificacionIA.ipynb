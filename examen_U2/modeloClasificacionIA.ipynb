{
  "nbformat": 4,
  "nbformat_minor": 0,
  "metadata": {
    "colab": {
      "provenance": []
    },
    "kernelspec": {
      "name": "python3",
      "display_name": "Python 3"
    },
    "language_info": {
      "name": "python"
    }
  },
  "cells": [
    {
      "cell_type": "code",
      "execution_count": 38,
      "metadata": {
        "id": "NcGN0xsJ-ivn"
      },
      "outputs": [],
      "source": [
        "import pandas as pd\n",
        "import numpy as np\n",
        "from sklearn.model_selection import train_test_split\n",
        "from sklearn.preprocessing import StandardScaler\n",
        "from sklearn.metrics import confusion_matrix, classification_report\n",
        "from sklearn.ensemble import RandomForestClassifier\n",
        "from sklearn.metrics import accuracy_score, precision_score, recall_score, f1_score\n"
      ]
    },
    {
      "cell_type": "code",
      "source": [
        "datos = pd.read_csv('data.csv')"
      ],
      "metadata": {
        "id": "xKSuSRvGJV2o"
      },
      "execution_count": 39,
      "outputs": []
    },
    {
      "cell_type": "code",
      "source": [
        "datos.shape"
      ],
      "metadata": {
        "colab": {
          "base_uri": "https://localhost:8080/"
        },
        "id": "dtDDroiOJqeH",
        "outputId": "04f7f16e-ba71-4c07-a177-34f433de8529"
      },
      "execution_count": 40,
      "outputs": [
        {
          "output_type": "execute_result",
          "data": {
            "text/plain": [
              "(400, 24)"
            ]
          },
          "metadata": {},
          "execution_count": 40
        }
      ]
    },
    {
      "cell_type": "code",
      "source": [
        "datos.info()\n"
      ],
      "metadata": {
        "colab": {
          "base_uri": "https://localhost:8080/"
        },
        "id": "GprFwQ1MJx8w",
        "outputId": "af23334e-d671-4262-c878-2bc747cfcc51"
      },
      "execution_count": 41,
      "outputs": [
        {
          "output_type": "stream",
          "name": "stdout",
          "text": [
            "<class 'pandas.core.frame.DataFrame'>\n",
            "RangeIndex: 400 entries, 0 to 399\n",
            "Data columns (total 24 columns):\n",
            " #   Column       Non-Null Count  Dtype \n",
            "---  ------       --------------  ----- \n",
            " 0   Age          400 non-null    int64 \n",
            " 1   Duration     400 non-null    int64 \n",
            " 2   Frequency    400 non-null    int64 \n",
            " 3   Location     400 non-null    int64 \n",
            " 4   Character    400 non-null    int64 \n",
            " 5   Intensity    400 non-null    int64 \n",
            " 6   Nausea       400 non-null    int64 \n",
            " 7   Vomit        400 non-null    int64 \n",
            " 8   Phonophobia  400 non-null    int64 \n",
            " 9   Photophobia  400 non-null    int64 \n",
            " 10  Visual       400 non-null    int64 \n",
            " 11  Sensory      400 non-null    int64 \n",
            " 12  Dysphasia    400 non-null    int64 \n",
            " 13  Dysarthria   400 non-null    int64 \n",
            " 14  Vertigo      400 non-null    int64 \n",
            " 15  Tinnitus     400 non-null    int64 \n",
            " 16  Hypoacusis   400 non-null    int64 \n",
            " 17  Diplopia     400 non-null    int64 \n",
            " 18  Defect       400 non-null    int64 \n",
            " 19  Ataxia       400 non-null    int64 \n",
            " 20  Conscience   400 non-null    int64 \n",
            " 21  Paresthesia  400 non-null    int64 \n",
            " 22  DPF          400 non-null    int64 \n",
            " 23  Type         400 non-null    object\n",
            "dtypes: int64(23), object(1)\n",
            "memory usage: 75.1+ KB\n"
          ]
        }
      ]
    },
    {
      "cell_type": "markdown",
      "source": [
        "**Crea un modelo de clasificación base utilizando cualquier algoritmo de clasificación de tu\n",
        "elección. (5 puntos)**"
      ],
      "metadata": {
        "id": "hHjB2UiMNdVM"
      }
    },
    {
      "cell_type": "code",
      "source": [
        "# dividir los datos en conjuntos de entrenamiento y prueba\n",
        "X_train, X_test, y_train, y_test = train_test_split(\n",
        "    datos.drop('Type', axis=1), \n",
        "    datos['Type'], \n",
        "    test_size=0.2, \n",
        "    random_state=42\n",
        ")\n"
      ],
      "metadata": {
        "id": "IwxcgfvrK3Uv"
      },
      "execution_count": 42,
      "outputs": []
    },
    {
      "cell_type": "code",
      "source": [
        "# crear el modelo de clasificación\n",
        "modelo = RandomForestClassifier()"
      ],
      "metadata": {
        "id": "N3yHgNbCLc0T"
      },
      "execution_count": 43,
      "outputs": []
    },
    {
      "cell_type": "code",
      "source": [
        "# entrenar el modelo en los datos de entrenamiento\n",
        "modelo.fit(X_train, y_train)\n"
      ],
      "metadata": {
        "colab": {
          "base_uri": "https://localhost:8080/",
          "height": 75
        },
        "id": "8fE5oD4uLg1F",
        "outputId": "56bc16fb-545a-460c-cf03-7bdadef9ab55"
      },
      "execution_count": 44,
      "outputs": [
        {
          "output_type": "execute_result",
          "data": {
            "text/plain": [
              "RandomForestClassifier()"
            ],
            "text/html": [
              "<style>#sk-container-id-3 {color: black;background-color: white;}#sk-container-id-3 pre{padding: 0;}#sk-container-id-3 div.sk-toggleable {background-color: white;}#sk-container-id-3 label.sk-toggleable__label {cursor: pointer;display: block;width: 100%;margin-bottom: 0;padding: 0.3em;box-sizing: border-box;text-align: center;}#sk-container-id-3 label.sk-toggleable__label-arrow:before {content: \"▸\";float: left;margin-right: 0.25em;color: #696969;}#sk-container-id-3 label.sk-toggleable__label-arrow:hover:before {color: black;}#sk-container-id-3 div.sk-estimator:hover label.sk-toggleable__label-arrow:before {color: black;}#sk-container-id-3 div.sk-toggleable__content {max-height: 0;max-width: 0;overflow: hidden;text-align: left;background-color: #f0f8ff;}#sk-container-id-3 div.sk-toggleable__content pre {margin: 0.2em;color: black;border-radius: 0.25em;background-color: #f0f8ff;}#sk-container-id-3 input.sk-toggleable__control:checked~div.sk-toggleable__content {max-height: 200px;max-width: 100%;overflow: auto;}#sk-container-id-3 input.sk-toggleable__control:checked~label.sk-toggleable__label-arrow:before {content: \"▾\";}#sk-container-id-3 div.sk-estimator input.sk-toggleable__control:checked~label.sk-toggleable__label {background-color: #d4ebff;}#sk-container-id-3 div.sk-label input.sk-toggleable__control:checked~label.sk-toggleable__label {background-color: #d4ebff;}#sk-container-id-3 input.sk-hidden--visually {border: 0;clip: rect(1px 1px 1px 1px);clip: rect(1px, 1px, 1px, 1px);height: 1px;margin: -1px;overflow: hidden;padding: 0;position: absolute;width: 1px;}#sk-container-id-3 div.sk-estimator {font-family: monospace;background-color: #f0f8ff;border: 1px dotted black;border-radius: 0.25em;box-sizing: border-box;margin-bottom: 0.5em;}#sk-container-id-3 div.sk-estimator:hover {background-color: #d4ebff;}#sk-container-id-3 div.sk-parallel-item::after {content: \"\";width: 100%;border-bottom: 1px solid gray;flex-grow: 1;}#sk-container-id-3 div.sk-label:hover label.sk-toggleable__label {background-color: #d4ebff;}#sk-container-id-3 div.sk-serial::before {content: \"\";position: absolute;border-left: 1px solid gray;box-sizing: border-box;top: 0;bottom: 0;left: 50%;z-index: 0;}#sk-container-id-3 div.sk-serial {display: flex;flex-direction: column;align-items: center;background-color: white;padding-right: 0.2em;padding-left: 0.2em;position: relative;}#sk-container-id-3 div.sk-item {position: relative;z-index: 1;}#sk-container-id-3 div.sk-parallel {display: flex;align-items: stretch;justify-content: center;background-color: white;position: relative;}#sk-container-id-3 div.sk-item::before, #sk-container-id-3 div.sk-parallel-item::before {content: \"\";position: absolute;border-left: 1px solid gray;box-sizing: border-box;top: 0;bottom: 0;left: 50%;z-index: -1;}#sk-container-id-3 div.sk-parallel-item {display: flex;flex-direction: column;z-index: 1;position: relative;background-color: white;}#sk-container-id-3 div.sk-parallel-item:first-child::after {align-self: flex-end;width: 50%;}#sk-container-id-3 div.sk-parallel-item:last-child::after {align-self: flex-start;width: 50%;}#sk-container-id-3 div.sk-parallel-item:only-child::after {width: 0;}#sk-container-id-3 div.sk-dashed-wrapped {border: 1px dashed gray;margin: 0 0.4em 0.5em 0.4em;box-sizing: border-box;padding-bottom: 0.4em;background-color: white;}#sk-container-id-3 div.sk-label label {font-family: monospace;font-weight: bold;display: inline-block;line-height: 1.2em;}#sk-container-id-3 div.sk-label-container {text-align: center;}#sk-container-id-3 div.sk-container {/* jupyter's `normalize.less` sets `[hidden] { display: none; }` but bootstrap.min.css set `[hidden] { display: none !important; }` so we also need the `!important` here to be able to override the default hidden behavior on the sphinx rendered scikit-learn.org. See: https://github.com/scikit-learn/scikit-learn/issues/21755 */display: inline-block !important;position: relative;}#sk-container-id-3 div.sk-text-repr-fallback {display: none;}</style><div id=\"sk-container-id-3\" class=\"sk-top-container\"><div class=\"sk-text-repr-fallback\"><pre>RandomForestClassifier()</pre><b>In a Jupyter environment, please rerun this cell to show the HTML representation or trust the notebook. <br />On GitHub, the HTML representation is unable to render, please try loading this page with nbviewer.org.</b></div><div class=\"sk-container\" hidden><div class=\"sk-item\"><div class=\"sk-estimator sk-toggleable\"><input class=\"sk-toggleable__control sk-hidden--visually\" id=\"sk-estimator-id-5\" type=\"checkbox\" checked><label for=\"sk-estimator-id-5\" class=\"sk-toggleable__label sk-toggleable__label-arrow\">RandomForestClassifier</label><div class=\"sk-toggleable__content\"><pre>RandomForestClassifier()</pre></div></div></div></div></div>"
            ]
          },
          "metadata": {},
          "execution_count": 44
        }
      ]
    },
    {
      "cell_type": "code",
      "source": [
        "# hacer predicciones en los datos de prueba\n",
        "y_pred = modelo.predict(X_test)"
      ],
      "metadata": {
        "id": "V6X4N77TLmAA"
      },
      "execution_count": 45,
      "outputs": []
    },
    {
      "cell_type": "code",
      "source": [
        "# evaluar el rendimiento del modelo en los datos de prueba\n",
        "accuracy = accuracy_score(y_test, y_pred)\n",
        "print('Accuracy:', accuracy)"
      ],
      "metadata": {
        "colab": {
          "base_uri": "https://localhost:8080/"
        },
        "id": "_DEP9jW8LqvR",
        "outputId": "30818110-94a4-4991-d9aa-1a7defdb98a2"
      },
      "execution_count": 46,
      "outputs": [
        {
          "output_type": "stream",
          "name": "stdout",
          "text": [
            "Accuracy: 0.9\n"
          ]
        }
      ]
    },
    {
      "cell_type": "markdown",
      "source": [
        "**Proporcione una breve descripción del algoritmo y sus suposiciones. (5 puntos)** elmodelo ue implementamos utiliza una tecnica para modelar la realacion entre una variable binaria dependiente y un conjunto de variables, en este caso la variable dependiente es el tipo de migraña, este modelo se utiliza para predecir el tipo de migraña basado en los datos de entrada"
      ],
      "metadata": {
        "id": "KnW1FS3HMb5X"
      }
    },
    {
      "cell_type": "markdown",
      "source": [
        "**Realice una validación cruzada utilizando una validación cruzada de 5 veces (5 puntos) e\n",
        "informe la media y la desviación estándar de las puntuaciones de validación cruzada (5\n",
        "puntos).**"
      ],
      "metadata": {
        "id": "rkD_-ZoRNm5e"
      }
    },
    {
      "cell_type": "code",
      "source": [
        "from sklearn.model_selection import cross_val_score\n",
        "\n",
        "# Realizar validación cruzada de 5 veces\n",
        "scores = cross_val_score(modelo, X_train, y_train, cv=5)"
      ],
      "metadata": {
        "id": "otc4NDjyOim7"
      },
      "execution_count": 47,
      "outputs": []
    },
    {
      "cell_type": "code",
      "source": [
        "\n",
        "# Obtener la media y la desviación estándar de las puntuaciones de validación cruzada\n",
        "media = scores.mean()\n",
        "desviacion_estandar = scores.std()"
      ],
      "metadata": {
        "id": "iC5dsNh5PDPn"
      },
      "execution_count": 48,
      "outputs": []
    },
    {
      "cell_type": "code",
      "source": [
        "# Imprimir resultados\n",
        "print(\"Media de las puntuaciones de validación cruzada:\", media)\n",
        "print(\"Desviación estándar de las puntuaciones de validación cruzada:\", desviacion_estandar)"
      ],
      "metadata": {
        "colab": {
          "base_uri": "https://localhost:8080/"
        },
        "id": "vr85ittjPxev",
        "outputId": "11fe896f-d086-402a-97c7-3062dd0681b0"
      },
      "execution_count": 49,
      "outputs": [
        {
          "output_type": "stream",
          "name": "stdout",
          "text": [
            "Media de las puntuaciones de validación cruzada: 0.865625\n",
            "Desviación estándar de las puntuaciones de validación cruzada: 0.027243118397129208\n"
          ]
        }
      ]
    },
    {
      "cell_type": "markdown",
      "source": [
        "**Explica por qué la validación cruzada es importante para evaluar el rendimiento de tu\n",
        "modelo. (5 puntos)** en este modelo que utilizamos lo que hace la validacion cruzada y al obtener la media y desviacion estandar lo que hace es tener un mejor resultadodel analisis, al dividirlo en 5 sera mas presiso en el resultado puede ue no tenga mayor punduacion pero es mas preciso el modelo"
      ],
      "metadata": {
        "id": "mdb5IHxRQiHH"
      }
    },
    {
      "cell_type": "markdown",
      "source": [
        "**Ajusta los hiperparámetros de su modelo de clasificación mediante la búsqueda en\n",
        "cuadrícula. (5 puntos)**"
      ],
      "metadata": {
        "id": "3sRsWyMARIjU"
      }
    },
    {
      "cell_type": "code",
      "source": [
        "from sklearn.model_selection import GridSearchCV\n",
        "\n",
        "# Crear un diccionario de valores para los hiperparámetros que se van a probar\n",
        "param_grid = {\n",
        "    'n_estimators': [50, 100, 200],\n",
        "    'criterion': ['gini', 'entropy'],\n",
        "    'max_depth': [5, 10, 20],\n",
        "    'min_samples_split': [2, 5, 10],\n",
        "    'min_samples_leaf': [1, 2, 4],\n",
        "    'max_features': ['sqrt', 'log2']\n",
        "}"
      ],
      "metadata": {
        "id": "ekHGD4MYRHUO"
      },
      "execution_count": 50,
      "outputs": []
    },
    {
      "cell_type": "code",
      "source": [
        "# Crear un objeto GridSearchCV para hacer la búsqueda en cuadrícula\n",
        "grid_search = GridSearchCV(RandomForestClassifier(), param_grid, cv=5)"
      ],
      "metadata": {
        "id": "hiBElD6ST8s-"
      },
      "execution_count": 51,
      "outputs": []
    },
    {
      "cell_type": "code",
      "source": [
        "# Ajustar el modelo usando los datos de entrenamiento\n",
        "grid_search.fit(X_train, y_train)"
      ],
      "metadata": {
        "colab": {
          "base_uri": "https://localhost:8080/",
          "height": 118
        },
        "id": "N4UdzN7lUHJB",
        "outputId": "8898a692-c811-4f13-f5f2-85ec150c4da1"
      },
      "execution_count": 52,
      "outputs": [
        {
          "output_type": "execute_result",
          "data": {
            "text/plain": [
              "GridSearchCV(cv=5, estimator=RandomForestClassifier(),\n",
              "             param_grid={'criterion': ['gini', 'entropy'],\n",
              "                         'max_depth': [5, 10, 20],\n",
              "                         'max_features': ['sqrt', 'log2'],\n",
              "                         'min_samples_leaf': [1, 2, 4],\n",
              "                         'min_samples_split': [2, 5, 10],\n",
              "                         'n_estimators': [50, 100, 200]})"
            ],
            "text/html": [
              "<style>#sk-container-id-4 {color: black;background-color: white;}#sk-container-id-4 pre{padding: 0;}#sk-container-id-4 div.sk-toggleable {background-color: white;}#sk-container-id-4 label.sk-toggleable__label {cursor: pointer;display: block;width: 100%;margin-bottom: 0;padding: 0.3em;box-sizing: border-box;text-align: center;}#sk-container-id-4 label.sk-toggleable__label-arrow:before {content: \"▸\";float: left;margin-right: 0.25em;color: #696969;}#sk-container-id-4 label.sk-toggleable__label-arrow:hover:before {color: black;}#sk-container-id-4 div.sk-estimator:hover label.sk-toggleable__label-arrow:before {color: black;}#sk-container-id-4 div.sk-toggleable__content {max-height: 0;max-width: 0;overflow: hidden;text-align: left;background-color: #f0f8ff;}#sk-container-id-4 div.sk-toggleable__content pre {margin: 0.2em;color: black;border-radius: 0.25em;background-color: #f0f8ff;}#sk-container-id-4 input.sk-toggleable__control:checked~div.sk-toggleable__content {max-height: 200px;max-width: 100%;overflow: auto;}#sk-container-id-4 input.sk-toggleable__control:checked~label.sk-toggleable__label-arrow:before {content: \"▾\";}#sk-container-id-4 div.sk-estimator input.sk-toggleable__control:checked~label.sk-toggleable__label {background-color: #d4ebff;}#sk-container-id-4 div.sk-label input.sk-toggleable__control:checked~label.sk-toggleable__label {background-color: #d4ebff;}#sk-container-id-4 input.sk-hidden--visually {border: 0;clip: rect(1px 1px 1px 1px);clip: rect(1px, 1px, 1px, 1px);height: 1px;margin: -1px;overflow: hidden;padding: 0;position: absolute;width: 1px;}#sk-container-id-4 div.sk-estimator {font-family: monospace;background-color: #f0f8ff;border: 1px dotted black;border-radius: 0.25em;box-sizing: border-box;margin-bottom: 0.5em;}#sk-container-id-4 div.sk-estimator:hover {background-color: #d4ebff;}#sk-container-id-4 div.sk-parallel-item::after {content: \"\";width: 100%;border-bottom: 1px solid gray;flex-grow: 1;}#sk-container-id-4 div.sk-label:hover label.sk-toggleable__label {background-color: #d4ebff;}#sk-container-id-4 div.sk-serial::before {content: \"\";position: absolute;border-left: 1px solid gray;box-sizing: border-box;top: 0;bottom: 0;left: 50%;z-index: 0;}#sk-container-id-4 div.sk-serial {display: flex;flex-direction: column;align-items: center;background-color: white;padding-right: 0.2em;padding-left: 0.2em;position: relative;}#sk-container-id-4 div.sk-item {position: relative;z-index: 1;}#sk-container-id-4 div.sk-parallel {display: flex;align-items: stretch;justify-content: center;background-color: white;position: relative;}#sk-container-id-4 div.sk-item::before, #sk-container-id-4 div.sk-parallel-item::before {content: \"\";position: absolute;border-left: 1px solid gray;box-sizing: border-box;top: 0;bottom: 0;left: 50%;z-index: -1;}#sk-container-id-4 div.sk-parallel-item {display: flex;flex-direction: column;z-index: 1;position: relative;background-color: white;}#sk-container-id-4 div.sk-parallel-item:first-child::after {align-self: flex-end;width: 50%;}#sk-container-id-4 div.sk-parallel-item:last-child::after {align-self: flex-start;width: 50%;}#sk-container-id-4 div.sk-parallel-item:only-child::after {width: 0;}#sk-container-id-4 div.sk-dashed-wrapped {border: 1px dashed gray;margin: 0 0.4em 0.5em 0.4em;box-sizing: border-box;padding-bottom: 0.4em;background-color: white;}#sk-container-id-4 div.sk-label label {font-family: monospace;font-weight: bold;display: inline-block;line-height: 1.2em;}#sk-container-id-4 div.sk-label-container {text-align: center;}#sk-container-id-4 div.sk-container {/* jupyter's `normalize.less` sets `[hidden] { display: none; }` but bootstrap.min.css set `[hidden] { display: none !important; }` so we also need the `!important` here to be able to override the default hidden behavior on the sphinx rendered scikit-learn.org. See: https://github.com/scikit-learn/scikit-learn/issues/21755 */display: inline-block !important;position: relative;}#sk-container-id-4 div.sk-text-repr-fallback {display: none;}</style><div id=\"sk-container-id-4\" class=\"sk-top-container\"><div class=\"sk-text-repr-fallback\"><pre>GridSearchCV(cv=5, estimator=RandomForestClassifier(),\n",
              "             param_grid={&#x27;criterion&#x27;: [&#x27;gini&#x27;, &#x27;entropy&#x27;],\n",
              "                         &#x27;max_depth&#x27;: [5, 10, 20],\n",
              "                         &#x27;max_features&#x27;: [&#x27;sqrt&#x27;, &#x27;log2&#x27;],\n",
              "                         &#x27;min_samples_leaf&#x27;: [1, 2, 4],\n",
              "                         &#x27;min_samples_split&#x27;: [2, 5, 10],\n",
              "                         &#x27;n_estimators&#x27;: [50, 100, 200]})</pre><b>In a Jupyter environment, please rerun this cell to show the HTML representation or trust the notebook. <br />On GitHub, the HTML representation is unable to render, please try loading this page with nbviewer.org.</b></div><div class=\"sk-container\" hidden><div class=\"sk-item sk-dashed-wrapped\"><div class=\"sk-label-container\"><div class=\"sk-label sk-toggleable\"><input class=\"sk-toggleable__control sk-hidden--visually\" id=\"sk-estimator-id-6\" type=\"checkbox\" ><label for=\"sk-estimator-id-6\" class=\"sk-toggleable__label sk-toggleable__label-arrow\">GridSearchCV</label><div class=\"sk-toggleable__content\"><pre>GridSearchCV(cv=5, estimator=RandomForestClassifier(),\n",
              "             param_grid={&#x27;criterion&#x27;: [&#x27;gini&#x27;, &#x27;entropy&#x27;],\n",
              "                         &#x27;max_depth&#x27;: [5, 10, 20],\n",
              "                         &#x27;max_features&#x27;: [&#x27;sqrt&#x27;, &#x27;log2&#x27;],\n",
              "                         &#x27;min_samples_leaf&#x27;: [1, 2, 4],\n",
              "                         &#x27;min_samples_split&#x27;: [2, 5, 10],\n",
              "                         &#x27;n_estimators&#x27;: [50, 100, 200]})</pre></div></div></div><div class=\"sk-parallel\"><div class=\"sk-parallel-item\"><div class=\"sk-item\"><div class=\"sk-label-container\"><div class=\"sk-label sk-toggleable\"><input class=\"sk-toggleable__control sk-hidden--visually\" id=\"sk-estimator-id-7\" type=\"checkbox\" ><label for=\"sk-estimator-id-7\" class=\"sk-toggleable__label sk-toggleable__label-arrow\">estimator: RandomForestClassifier</label><div class=\"sk-toggleable__content\"><pre>RandomForestClassifier()</pre></div></div></div><div class=\"sk-serial\"><div class=\"sk-item\"><div class=\"sk-estimator sk-toggleable\"><input class=\"sk-toggleable__control sk-hidden--visually\" id=\"sk-estimator-id-8\" type=\"checkbox\" ><label for=\"sk-estimator-id-8\" class=\"sk-toggleable__label sk-toggleable__label-arrow\">RandomForestClassifier</label><div class=\"sk-toggleable__content\"><pre>RandomForestClassifier()</pre></div></div></div></div></div></div></div></div></div></div>"
            ]
          },
          "metadata": {},
          "execution_count": 52
        }
      ]
    },
    {
      "cell_type": "markdown",
      "source": [
        "**Explica los hiperparámetros que ajustó, el rango de valores que consideró y la razón detrás\n",
        "de sus elecciones.** los hiperparametros que agregue son los ue le pertenecen a este modelo utilizado, enm_stimators, agregue esos parametros debido a la cantidad de datos que hay "
      ],
      "metadata": {
        "id": "_HzEgwBpXCd6"
      }
    },
    {
      "cell_type": "code",
      "source": [
        "# Mostrar los mejores hiperparámetros y la puntuación del modelo en los datos de prueba\n",
        "print(\"Mejores hiperparámetros:\", grid_search.best_params_)\n",
        "print(\"Puntuación de precisión en los datos de prueba:\", grid_search.score(X_test, y_test))\n",
        "print(\"puntuacion de la validacion cruzada\")\n",
        "scores = cross_val_score(modelo, X_train, y_train, cv=5) \n",
        "score = scores.mean()\n",
        "print(scores)"
      ],
      "metadata": {
        "colab": {
          "base_uri": "https://localhost:8080/"
        },
        "id": "s64KYH9NVovs",
        "outputId": "e4461fd9-b8e0-4229-f03c-716de7ed092b"
      },
      "execution_count": 57,
      "outputs": [
        {
          "output_type": "stream",
          "name": "stdout",
          "text": [
            "Mejores hiperparámetros: {'criterion': 'gini', 'max_depth': 20, 'max_features': 'sqrt', 'min_samples_leaf': 1, 'min_samples_split': 5, 'n_estimators': 50}\n",
            "Puntuación de precisión en los datos de prueba: 0.9125\n",
            "puntuacion de la validacion cruzada\n",
            "[0.84375  0.875    0.859375 0.875    0.890625]\n"
          ]
        }
      ]
    },
    {
      "cell_type": "markdown",
      "source": [
        "**Informe los mejores hiperparámetros que encontró y la puntuación de validación cruzada\n",
        "correspondiente.** los mejores hiperparametros encontrados fueron estos.....hiperparámetros: {'criterion': 'gini', 'max_depth': 20, 'max_features': 'log2', 'min_samples_leaf': 1, 'min_samples_split': 5, 'n_estimators': 50}\n",
        "Puntuación de precisión en los datos de prueba: 0.9375"
      ],
      "metadata": {
        "id": "uF54x0y2YAo_"
      }
    },
    {
      "cell_type": "markdown",
      "source": [
        "**Evalúa el rendimiento de tu modelo de clasificación ajustado utilizando precisión,\n",
        "recuperación y puntaje F1.**"
      ],
      "metadata": {
        "id": "rMBrfz_kc7pW"
      }
    },
    {
      "cell_type": "code",
      "source": [
        "# Calcular la precisión, recuperación y puntaje F1\n",
        "precision = precision_score(y_test, y_pred, average='macro')\n",
        "recall = recall_score(y_test, y_pred, average='macro')\n",
        "f1 = f1_score(y_test, y_pred, average='macro')"
      ],
      "metadata": {
        "id": "-YZhgYPacNVd"
      },
      "execution_count": null,
      "outputs": []
    },
    {
      "cell_type": "code",
      "source": [
        "# Imprimir los resultados\n",
        "print('Precisión: {:.2f}'.format(precision))\n",
        "print('Recuperación: {:.2f}'.format(recall))\n",
        "print('Puntaje F1: {:.2f}'.format(f1))"
      ],
      "metadata": {
        "id": "vRsBmniudDrc"
      },
      "execution_count": null,
      "outputs": []
    },
    {
      "cell_type": "markdown",
      "source": [
        "**Explique el significado de estas métricas y cómo se pueden usar para evaluar el\n",
        "rendimiento de un modelo de clasificación.**La precisión es la proporción de predicciones correctas del modelo. La recuperación es la proporción de casos positivos reales que fueron correctamente identificados por el modelo. El puntaje F1 es un promedio ponderado de precisión y recuperación. Estas métricas se utilizan para evaluar qué tan bien el modelo puede hacer predicciones precisas y completas en un conjunto de datos de prueba."
      ],
      "metadata": {
        "id": "ENNbCbWocjQe"
      }
    },
    {
      "cell_type": "markdown",
      "source": [
        "**Compare el rendimiento de tu modelo de clasificación ajustado con el modelo base y\n",
        "explique cualquier diferencia que haya observado.** \n",
        "En este proyecto se ajustó un modelo de clasificación Random Forest y se comparó su rendimiento con un modelo base. El modelo ajustado obtuvo una precisión, recuperación y puntaje F1 significativamente mejores que el modelo base. Esto significa que el modelo ajustado es capaz de predecir con mayor precisión y cobertura que el modelo base, lo que lo hace más efectivo en la tarea de clasificación. La diferencia en el rendimiento de ambos modelos puede deberse a la selección de hiperparámetros y la complejidad del modelo ajustado."
      ],
      "metadata": {
        "id": "oEv2EZQJdIo6"
      }
    }
  ]
}