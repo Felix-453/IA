{
  "cells": [
    {
      "cell_type": "code",
      "execution_count": 58,
      "metadata": {
        "id": "RNjeYOXM-8vn"
      },
      "outputs": [],
      "source": [
        "# Importamos las librerías necesarias\n",
        "import pandas as pd\n",
        "import numpy as np\n",
        "from sklearn.linear_model import LinearRegression\n",
        "from sklearn.model_selection import train_test_split\n",
        "from sklearn.metrics import r2_score, accuracy_score\n",
        "import matplotlib.pyplot as plt"
      ]
    },
    {
      "cell_type": "markdown",
      "metadata": {
        "id": "gu9prfNg-8x6"
      },
      "source": [
        "#Creando el modelo de Regresión"
      ]
    },
    {
      "cell_type": "code",
      "execution_count": 59,
      "metadata": {
        "colab": {
          "base_uri": "https://localhost:8080/"
        },
        "id": "Gc82okFL-8yC",
        "outputId": "3f0755ad-4b3a-428c-c7d3-f9c8b9d5a9cd"
      },
      "outputs": [
        {
          "output_type": "stream",
          "name": "stderr",
          "text": [
            "<ipython-input-59-11bcec12a758>:2: DtypeWarning: Columns (47,73) have mixed types. Specify dtype option on import or set low_memory=False.\n",
            "  df = pd.read_csv('DataSet1.csv')\n"
          ]
        }
      ],
      "source": [
        "# Leemos el conjunto de datos\n",
        "df = pd.read_csv('DataSet1.csv')\n",
        "\n",
        "# Seleccionamos las columnas de interés\n",
        "df = df[['Depthm', 'T_degC']]\n",
        "\n",
        "df = df.dropna(subset=['Depthm', 'T_degC'])\n",
        "\n"
      ]
    },
    {
      "cell_type": "code",
      "execution_count": 60,
      "metadata": {
        "colab": {
          "base_uri": "https://localhost:8080/",
          "height": 449
        },
        "id": "lzkqHWg6-8yJ",
        "outputId": "213bf342-ed4f-4820-b0e6-459bbf14eb53"
      },
      "outputs": [
        {
          "output_type": "display_data",
          "data": {
            "text/plain": [
              "<Figure size 640x480 with 1 Axes>"
            ],
            "image/png": "[encoded data removed]"
          },
          "metadata": {}
        }
      ],
      "source": [
        "plt.scatter(df['Depthm'], df['T_degC'])\n",
        "plt.xlabel('Profundidad del océano (m)')\n",
        "plt.ylabel('Temperatura (°C)')\n",
        "plt.show()"
      ]
    },
    {
      "cell_type": "code",
      "execution_count": 61,
      "metadata": {
        "id": "F0Bs6tIx-8yP"
      },
      "outputs": [],
      "source": [
        "\n",
        "# Separamos los datos en conjuntos de entrenamiento y prueba\n",
        "X_train, X_test, y_train, y_test = train_test_split(df[['Depthm']], df['T_degC'], test_size=0.2, random_state=42)\n"
      ]
    },
    {
      "cell_type": "code",
      "execution_count": 62,
      "metadata": {
        "id": "jVS39ke0-8yR"
      },
      "outputs": [],
      "source": [
        "\n",
        "# Creamos el modelo de regresión lineal\n",
        "lr = LinearRegression()\n",
        "\n",
        "# Entrenamos el modelo\n",
        "lr.fit(X_train, y_train)\n",
        "\n",
        "# Realizamos una predicción sobre el conjunto de prueba\n",
        "y_pred = lr.predict(X_test)\n"
      ]
    },
    {
      "cell_type": "code",
      "execution_count": 63,
      "metadata": {
        "colab": {
          "base_uri": "https://localhost:8080/"
        },
        "id": "L-eleopI-8yW",
        "outputId": "d7cf3e2f-c29f-4c05-cde0-c12f0097b5c7"
      },
      "outputs": [
        {
          "output_type": "stream",
          "name": "stdout",
          "text": [
            "Coeficiente de determinación (R2): 0.46\n"
          ]
        }
      ],
      "source": [
        "# Evaluamos el modelo\n",
        "r2 = r2_score(y_test, y_pred)\n",
        "print(\"Coeficiente de determinación (R2): {:.2f}\".format(r2))\n"
      ]
    },
    {
      "cell_type": "markdown",
      "source": [
        "#Proporcione una breve descripción del algoritmo y sus suposiciones."
      ],
      "metadata": {
        "id": "HW_JV8EFCS3o"
      }
    },
    {
      "cell_type": "markdown",
      "metadata": {
        "id": "8mD289BM-8ya"
      },
      "source": [
        "Breve explicacion del algoritmo y sus suposiciones\n",
        "Primero se importan las bibliotecas necesarias para trabajar con el conjunto de datos y construir el modelo. Luego se carga el conjunto de datos del archivo CSV y se seleccionan las dos columnas de interés (profundidad y temperatura). A continuación, se divide el conjunto de datos en conjuntos de entrenamiento y prueba utilizando la función train_test_split de scikit-learn. Después se crea el modelo de bosques aleatorios y se ajusta a los datos de entrenamiento. Una vez entrenado el modelo, se realizan predicciones sobre el conjunto de prueba y se evalúa el rendimiento del modelo mediante el coeficiente de determinación (R2)\n",
        "\n",
        "El modelo busca minimizar la distancia entre las predicciones del modelo y los valores reales de la variable dependiente. El modelo también supone que las variables independientes están linealmente relacionadas y que los errores de las predicciones son independientes e idénticamente distribuidos."
      ]
    },
    {
      "cell_type": "markdown",
      "source": [
        "#Realice una validación cruzada utilizando una validación cruzada de 5 veces"
      ],
      "metadata": {
        "id": "MAvwAIjMBkRE"
      }
    },
    {
      "cell_type": "code",
      "execution_count": 64,
      "metadata": {
        "id": "KPn1exPi-8ym"
      },
      "outputs": [],
      "source": [
        "from sklearn.model_selection import cross_val_score\n",
        "# Evaluamos el modelo usando validación cruzada\n",
        "scores = cross_val_score(lr, df[['Depthm']], df['T_degC'], cv=5)\n",
        "mean_score = np.mean(scores)\n",
        "std_score = np.std(scores)"
      ]
    },
    {
      "cell_type": "markdown",
      "source": [
        "#informe la media y la desviación estándar de las puntuaciones de validación cruzada"
      ],
      "metadata": {
        "id": "PTAC_OEhBqMR"
      }
    },
    {
      "cell_type": "code",
      "source": [
        "print(\"Media de puntuación de validación cruzada:\", mean_score)\n",
        "print(\"Desviación estándar de la puntuación de validación cruzada:\", std_score)"
      ],
      "metadata": {
        "colab": {
          "base_uri": "https://localhost:8080/"
        },
        "id": "Q2Emn3udBhV-",
        "outputId": "65dae047-51b7-40e1-85f1-7a1aafa94d60"
      },
      "execution_count": 65,
      "outputs": [
        {
          "output_type": "stream",
          "name": "stdout",
          "text": [
            "Media de puntuación de validación cruzada: 0.43441085954853875\n",
            "Desviación estándar de la puntuación de validación cruzada: 0.09435191803318124\n"
          ]
        }
      ]
    },
    {
      "cell_type": "markdown",
      "source": [
        "#Explique por qué la validación cruzada es importante para evaluar el rendimiento de su\n",
        "modelo.\n",
        "La validación cruzada es importante porque permite evaluar el rendimiento del modelo en datos que no se utilizaron para entrenarlo, lo que ayuda a evitar el sobreajuste o subajuste del modelo. Además, la validación cruzada proporciona una estimación más precisa del rendimiento del modelo en datos nuevos y desconocidos, lo que es especialmente importante en situaciones en las que se espera que el modelo se desempeñe bien en datos futuros."
      ],
      "metadata": {
        "id": "9OehPs8aAzDW"
      }
    },
    {
      "cell_type": "markdown",
      "source": [
        "#Ajuste los hiperparámetros de su modelo de regresión mediante la búsqueda en malla."
      ],
      "metadata": {
        "id": "wi9-hZ0RCg0Z"
      }
    },
    {
      "cell_type": "code",
      "execution_count": 66,
      "metadata": {
        "id": "n5lGw4Ez-8yg"
      },
      "outputs": [],
      "source": [
        "from sklearn.model_selection import GridSearchCV\n",
        "\n",
        "grid = {\n",
        "   'fit_intercept':[True, False],\n",
        "   'copy_X': [True, False],\n",
        "   'positive': [True, False],\n",
        "   'n_jobs': [1,-1]\n",
        "}\n",
        "\n"
      ]
    },
    {
      "cell_type": "code",
      "execution_count": 67,
      "metadata": {
        "colab": {
          "base_uri": "https://localhost:8080/",
          "height": 118
        },
        "id": "ZAJ83239-8yn",
        "outputId": "4e600006-e7c0-4742-da44-c4d1c8d2f022"
      },
      "outputs": [
        {
          "output_type": "execute_result",
          "data": {
            "text/plain": [
              "GridSearchCV(cv=5, estimator=LinearRegression(),\n",
              "             param_grid={'copy_X': [True, False],\n",
              "                         'fit_intercept': [True, False], 'n_jobs': [1, -1],\n",
              "                         'positive': [True, False]})"
            ],
            "text/html": [
              "<style>#sk-container-id-3 {color: black;background-color: white;}#sk-container-id-3 pre{padding: 0;}#sk-container-id-3 div.sk-toggleable {background-color: white;}#sk-container-id-3 label.sk-toggleable__label {cursor: pointer;display: block;width: 100%;margin-bottom: 0;padding: 0.3em;box-sizing: border-box;text-align: center;}#sk-container-id-3 label.sk-toggleable__label-arrow:before {content: \"▸\";float: left;margin-right: 0.25em;color: #696969;}#sk-container-id-3 label.sk-toggleable__label-arrow:hover:before {color: black;}#sk-container-id-3 div.sk-estimator:hover label.sk-toggleable__label-arrow:before {color: black;}#sk-container-id-3 div.sk-toggleable__content {max-height: 0;max-width: 0;overflow: hidden;text-align: left;background-color: #f0f8ff;}#sk-container-id-3 div.sk-toggleable__content pre {margin: 0.2em;color: black;border-radius: 0.25em;background-color: #f0f8ff;}#sk-container-id-3 input.sk-toggleable__control:checked~div.sk-toggleable__content {max-height: 200px;max-width: 100%;overflow: auto;}#sk-container-id-3 input.sk-toggleable__control:checked~label.sk-toggleable__label-arrow:before {content: \"▾\";}#sk-container-id-3 div.sk-estimator input.sk-toggleable__control:checked~label.sk-toggleable__label {background-color: #d4ebff;}#sk-container-id-3 div.sk-label input.sk-toggleable__control:checked~label.sk-toggleable__label {background-color: #d4ebff;}#sk-container-id-3 input.sk-hidden--visually {border: 0;clip: rect(1px 1px 1px 1px);clip: rect(1px, 1px, 1px, 1px);height: 1px;margin: -1px;overflow: hidden;padding: 0;position: absolute;width: 1px;}#sk-container-id-3 div.sk-estimator {font-family: monospace;background-color: #f0f8ff;border: 1px dotted black;border-radius: 0.25em;box-sizing: border-box;margin-bottom: 0.5em;}#sk-container-id-3 div.sk-estimator:hover {background-color: #d4ebff;}#sk-container-id-3 div.sk-parallel-item::after {content: \"\";width: 100%;border-bottom: 1px solid gray;flex-grow: 1;}#sk-container-id-3 div.sk-label:hover label.sk-toggleable__label {background-color: #d4ebff;}#sk-container-id-3 div.sk-serial::before {content: \"\";position: absolute;border-left: 1px solid gray;box-sizing: border-box;top: 0;bottom: 0;left: 50%;z-index: 0;}#sk-container-id-3 div.sk-serial {display: flex;flex-direction: column;align-items: center;background-color: white;padding-right: 0.2em;padding-left: 0.2em;position: relative;}#sk-container-id-3 div.sk-item {position: relative;z-index: 1;}#sk-container-id-3 div.sk-parallel {display: flex;align-items: stretch;justify-content: center;background-color: white;position: relative;}#sk-container-id-3 div.sk-item::before, #sk-container-id-3 div.sk-parallel-item::before {content: \"\";position: absolute;border-left: 1px solid gray;box-sizing: border-box;top: 0;bottom: 0;left: 50%;z-index: -1;}#sk-container-id-3 div.sk-parallel-item {display: flex;flex-direction: column;z-index: 1;position: relative;background-color: white;}#sk-container-id-3 div.sk-parallel-item:first-child::after {align-self: flex-end;width: 50%;}#sk-container-id-3 div.sk-parallel-item:last-child::after {align-self: flex-start;width: 50%;}#sk-container-id-3 div.sk-parallel-item:only-child::after {width: 0;}#sk-container-id-3 div.sk-dashed-wrapped {border: 1px dashed gray;margin: 0 0.4em 0.5em 0.4em;box-sizing: border-box;padding-bottom: 0.4em;background-color: white;}#sk-container-id-3 div.sk-label label {font-family: monospace;font-weight: bold;display: inline-block;line-height: 1.2em;}#sk-container-id-3 div.sk-label-container {text-align: center;}#sk-container-id-3 div.sk-container {/* jupyter's `normalize.less` sets `[hidden] { display: none; }` but bootstrap.min.css set `[hidden] { display: none !important; }` so we also need the `!important` here to be able to override the default hidden behavior on the sphinx rendered scikit-learn.org. See: https://github.com/scikit-learn/scikit-learn/issues/21755 */display: inline-block !important;position: relative;}#sk-container-id-3 div.sk-text-repr-fallback {display: none;}</style><div id=\"sk-container-id-3\" class=\"sk-top-container\"><div class=\"sk-text-repr-fallback\"><pre>GridSearchCV(cv=5, estimator=LinearRegression(),\n",
              "             param_grid={&#x27;copy_X&#x27;: [True, False],\n",
              "                         &#x27;fit_intercept&#x27;: [True, False], &#x27;n_jobs&#x27;: [1, -1],\n",
              "                         &#x27;positive&#x27;: [True, False]})</pre><b>In a Jupyter environment, please rerun this cell to show the HTML representation or trust the notebook. <br />On GitHub, the HTML representation is unable to render, please try loading this page with nbviewer.org.</b></div><div class=\"sk-container\" hidden><div class=\"sk-item sk-dashed-wrapped\"><div class=\"sk-label-container\"><div class=\"sk-label sk-toggleable\"><input class=\"sk-toggleable__control sk-hidden--visually\" id=\"sk-estimator-id-7\" type=\"checkbox\" ><label for=\"sk-estimator-id-7\" class=\"sk-toggleable__label sk-toggleable__label-arrow\">GridSearchCV</label><div class=\"sk-toggleable__content\"><pre>GridSearchCV(cv=5, estimator=LinearRegression(),\n",
              "             param_grid={&#x27;copy_X&#x27;: [True, False],\n",
              "                         &#x27;fit_intercept&#x27;: [True, False], &#x27;n_jobs&#x27;: [1, -1],\n",
              "                         &#x27;positive&#x27;: [True, False]})</pre></div></div></div><div class=\"sk-parallel\"><div class=\"sk-parallel-item\"><div class=\"sk-item\"><div class=\"sk-label-container\"><div class=\"sk-label sk-toggleable\"><input class=\"sk-toggleable__control sk-hidden--visually\" id=\"sk-estimator-id-8\" type=\"checkbox\" ><label for=\"sk-estimator-id-8\" class=\"sk-toggleable__label sk-toggleable__label-arrow\">estimator: LinearRegression</label><div class=\"sk-toggleable__content\"><pre>LinearRegression()</pre></div></div></div><div class=\"sk-serial\"><div class=\"sk-item\"><div class=\"sk-estimator sk-toggleable\"><input class=\"sk-toggleable__control sk-hidden--visually\" id=\"sk-estimator-id-9\" type=\"checkbox\" ><label for=\"sk-estimator-id-9\" class=\"sk-toggleable__label sk-toggleable__label-arrow\">LinearRegression</label><div class=\"sk-toggleable__content\"><pre>LinearRegression()</pre></div></div></div></div></div></div></div></div></div></div>"
            ]
          },
          "metadata": {},
          "execution_count": 67
        }
      ],
      "source": [
        "rf_cv = GridSearchCV(estimator=LinearRegression(),param_grid=grid,cv=5)\n",
        "rf_cv.fit(X_train,y_train)"
      ]
    },
    {
      "cell_type": "markdown",
      "source": [
        "#Explica los hiperparámetros que ajustaron, el rango de valores que consideraron y la razón detrás de esas elecciones.\n",
        "\n",
        "Los hiperparámetros ajustados en este caso fueron fit_intercept, copy_X, positive y n_jobs, los cuales tienen las siguientes definiciones:\n",
        "\n",
        "fit_intercept: booleano que indica si se debe ajustar o no la intersección en el modelo. El rango de valores considerados fue True y False, ya que es una opción común en muchos modelos de regresión lineal y puede influir en la capacidad del modelo para capturar la tendencia general de los datos.\n",
        "\n",
        "copy_X: booleano que indica si los datos de entrada deben ser copiados antes de ser utilizados en la regresión. El rango de valores considerados fue True y False, ya que puede afectar el rendimiento del modelo y la capacidad de manejar grandes conjuntos de datos.\n",
        "\n",
        "positive: booleano que indica si se deben imponer restricciones positivas a los coeficientes del modelo. El rango de valores considerados fue True y False, ya que puede influir en la capacidad del modelo para manejar datos que solo tienen valores positivos.\n",
        "\n",
        "n_jobs: entero que indica el número de núcleos de CPU a utilizar para el procesamiento en paralelo. El rango de valores considerados fue 1 y -1, donde -1 indica el uso de todos los núcleos disponibles. Esta opción se consideró porque puede acelerar el proceso de entrenamiento del modelo en grandes conjuntos de datos."
      ],
      "metadata": {
        "id": "eKbx-vOoM3G1"
      }
    },
    {
      "cell_type": "markdown",
      "source": [
        "#Informa los mejores hiperparámetros que encontró y la puntuación de validación cruzada correspondiente."
      ],
      "metadata": {
        "id": "dnueRrNLNtNI"
      }
    },
    {
      "cell_type": "code",
      "execution_count": 68,
      "metadata": {
        "colab": {
          "base_uri": "https://localhost:8080/"
        },
        "id": "p7yU6o7K-8yr",
        "outputId": "2c515781-83aa-43e5-ce7b-4cd57e04e370"
      },
      "outputs": [
        {
          "output_type": "execute_result",
          "data": {
            "text/plain": [
              "{'copy_X': True, 'fit_intercept': True, 'n_jobs': 1, 'positive': False}"
            ]
          },
          "metadata": {},
          "execution_count": 68
        }
      ],
      "source": [
        "#Se utiliza el atributo best_params_ para obtener los mejores hiperparamtros\n",
        "rf_cv.best_params_"
      ]
    },
    {
      "cell_type": "code",
      "source": [
        "\n",
        "lr2 = LinearRegression(copy_X=True,fit_intercept=True,positive=False,n_jobs=1).fit(X_train,y_train)"
      ],
      "metadata": {
        "id": "GCjwtIX4N7aV"
      },
      "execution_count": 69,
      "outputs": []
    },
    {
      "cell_type": "code",
      "source": [
        "r2 = r2_score(y_test, y_pred)\n",
        "print(\"Coeficiente de determinación (R2): {:.2f}\".format(r2))"
      ],
      "metadata": {
        "colab": {
          "base_uri": "https://localhost:8080/"
        },
        "id": "_pU8DewAPK5C",
        "outputId": "620d8f4c-a819-4936-dcc2-6fbae218d7cc"
      },
      "execution_count": 70,
      "outputs": [
        {
          "output_type": "stream",
          "name": "stdout",
          "text": [
            "Coeficiente de determinación (R2): 0.46\n"
          ]
        }
      ]
    },
    {
      "cell_type": "code",
      "source": [
        "scores = cross_val_score(lr2, df[['Depthm']], df['T_degC'], cv=5)\n",
        "mean_score = np.mean(scores)\n",
        "std_score = np.std(scores)"
      ],
      "metadata": {
        "id": "SLgWxSMeSuGv"
      },
      "execution_count": 71,
      "outputs": []
    },
    {
      "cell_type": "code",
      "source": [
        "print(\"Media de puntuación de validación cruzada:\", mean_score)\n",
        "print(\"Desviación estándar de la puntuación de validación cruzada:\", std_score)"
      ],
      "metadata": {
        "colab": {
          "base_uri": "https://localhost:8080/"
        },
        "id": "3KCqMDstS3eK",
        "outputId": "49932fc4-2b4d-40c3-a0d9-8ab162f5a0e9"
      },
      "execution_count": 72,
      "outputs": [
        {
          "output_type": "stream",
          "name": "stdout",
          "text": [
            "Media de puntuación de validación cruzada: 0.43441085954853875\n",
            "Desviación estándar de la puntuación de validación cruzada: 0.09435191803318124\n"
          ]
        }
      ]
    },
    {
      "cell_type": "markdown",
      "source": [
        "#Compare el rendimiento de su modelo de regresión ajustado con el modelo base y explique cualquier diferencia que haya observado.\n",
        "\n",
        "En el caso de la regresión lineal, la malla de hiperparámetros definida solo incluye opciones booleanas, por lo que no hay mejores hiperparámetros a seleccionar. Lo que el GridSearchCV hace en este caso es evaluar todas las combinaciones posibles de los valores booleanos en la malla y seleccionar la mejor combinación según los resultados de la validación cruzada. \n",
        "\n",
        "Se observó que el score en ambos casos es el mismo debido a que los hiperparametros que recibe este modelo solo pueden ser True o False y por defecto este modelo ya tiene definido sus mejores hiperparametros, por eso se observó el mismo resultado en ambos casos."
      ],
      "metadata": {
        "id": "5IpnWaF2TpOb"
      }
    },
    {
      "cell_type": "markdown",
      "source": [],
      "metadata": {
        "id": "uYIlgqiwVmlr"
      }
    }
  ],
  "metadata": {
    "kernelspec": {
      "display_name": "Python 3",
      "language": "python",
      "name": "python3"
    },
    "language_info": {
      "codemirror_mode": {
        "name": "ipython",
        "version": 3
      },
      "file_extension": ".py",
      "mimetype": "text/x-python",
      "name": "python",
      "nbconvert_exporter": "python",
      "pygments_lexer": "ipython3",
      "version": "3.10.5"
    },
    "orig_nbformat": 4,
    "colab": {
      "provenance": []
    }
  },
  "nbformat": 4,
  "nbformat_minor": 0
}